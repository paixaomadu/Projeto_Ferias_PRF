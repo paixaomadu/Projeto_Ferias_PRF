{
 "cells": [
  {
   "cell_type": "code",
   "execution_count": 1,
   "id": "17ded890",
   "metadata": {},
   "outputs": [],
   "source": [
    "import pandas as pd\n",
    "import numpy as np\n",
    "import matplotlib.pyplot as plt"
   ]
  },
  {
   "cell_type": "code",
   "execution_count": 2,
   "id": "e24c8bdb",
   "metadata": {},
   "outputs": [],
   "source": [
    "#importação do cvs\n",
    "df17= pd.read_csv('acidentes2017.csv', sep= ';', encoding=\"latin1\")\n",
    "df18= pd.read_csv('acidentes2018.csv', sep= ';', encoding=\"latin1\")\n",
    "df19= pd.read_csv('acidentes2019.csv', sep= ';', encoding=\"latin1\")\n",
    "df20= pd.read_csv('acidentes2020.csv', sep= ';', encoding=\"latin1\") \n",
    "df21= pd.read_csv('acidentes2021.csv', sep= ';', encoding=\"latin1\")\n",
    "df22= pd.read_csv('acidentes2022.csv', sep= ';', encoding=\"latin1\")\n",
    "df23= pd.read_csv('acidentes2023.csv', sep= ';', encoding=\"latin1\")\n",
    "df24= pd.read_csv('acidentes2024.csv', sep= ';', encoding=\"latin1\")\n",
    "df25= pd.read_csv('acidentes2025.csv', sep= ';', encoding=\"latin1\")\n",
    "\n",
    "df= pd.concat([df17, df18, df19, df20, df21, df22, df23, df24, df25], ignore_index=True)\n",
    "\n",
    "\n"
   ]
  },
  {
   "cell_type": "code",
   "execution_count": 16,
   "id": "508ab7cb",
   "metadata": {},
   "outputs": [],
   "source": [
    "#Criei uma nova coluna só para o ano\n",
    "df['data_inversa'] = pd.to_datetime(df['data_inversa'], format=\"%Y-%m-%d\")\n",
    "df['Ano'] = df['data_inversa'].dt.year"
   ]
  },
  {
   "cell_type": "code",
   "execution_count": 17,
   "id": "deb48865",
   "metadata": {},
   "outputs": [],
   "source": [
    "#variavel contadora\n",
    "df['contador']= 1"
   ]
  },
  {
   "cell_type": "code",
   "execution_count": 37,
   "id": "60e38bcd",
   "metadata": {},
   "outputs": [],
   "source": [
    "#att do df\n",
    "df_att= df[['data_inversa', 'municipio', 'delegacia', 'tipo_veiculo', 'tipo_acidente','tipo_envolvido', 'estado_fisico', 'br', 'Ano', 'contador']]\n"
   ]
  },
  {
   "cell_type": "code",
   "execution_count": 29,
   "id": "29100534",
   "metadata": {},
   "outputs": [],
   "source": [
    "#Qual colisão é responsável por mais óbitos?\n",
    "dfobito= df_att.loc[(df_att['estado_fisico']== 'Óbito')]\n",
    "df_coli= dfobito.groupby(['tipo_acidente', 'estado_fisico'])['contador'].sum().reset_index()\n",
    "df_coli= df_coli.sort_values(by= 'contador'). tail(5)\n",
    "\n"
   ]
  },
  {
   "cell_type": "code",
   "execution_count": null,
   "id": "8668ba74",
   "metadata": {},
   "outputs": [],
   "source": [
    "#array de recuperação\n",
    "array1= df_ano['recuperacao_veiculos']\n",
    "dados1= np.array(array1)"
   ]
  },
  {
   "cell_type": "code",
   "execution_count": 21,
   "id": "c410f1bf",
   "metadata": {},
   "outputs": [],
   "source": [
    "#Qual tipo de veículo é menos seguro para o condutor?\n",
    "dfvei= df_att.loc[(df_att['tipo_envolvido']== 'Condutor') & (df_att['estado_fisico']== 'Óbito')]\n",
    "dfvei= dfvei.groupby(['tipo_veiculo', 'estado_fisico', 'tipo_envolvido'])['contador'].sum().reset_index()\n",
    "dfvei= dfvei.sort_values(by= 'contador')\n",
    "\n"
   ]
  },
  {
   "cell_type": "code",
   "execution_count": 22,
   "id": "21e1979d",
   "metadata": {},
   "outputs": [],
   "source": [
    "#Para ver a variação dos óbitos de motocicletas por ano\n",
    "dfvei= df_att.loc[(df_att['tipo_envolvido']== 'Condutor') & (df_att['estado_fisico']== 'Óbito')]\n",
    "dfvei= dfvei.groupby(['Ano', 'tipo_veiculo', 'estado_fisico', 'tipo_envolvido'])['contador'].sum().reset_index()\n",
    "idx = dfvei.groupby('Ano')['contador'].idxmax()\n",
    "df_por_ano = dfvei.loc[idx].sort_values(by='Ano')\n"
   ]
  },
  {
   "cell_type": "code",
   "execution_count": 23,
   "id": "40e4bd6b",
   "metadata": {},
   "outputs": [],
   "source": [
    "#Quais municípios e rodovias concentram os acidentes mais graves?\n",
    "df_graves= df_att.loc[(df_att['estado_fisico']== 'Lesões Graves')]\n",
    "df_mun= df_graves.groupby(['estado_fisico','municipio', 'br'])['contador'].sum().reset_index()\n",
    "df_mun= df_mun.sort_values(by= 'contador'). tail(10)"
   ]
  },
  {
   "cell_type": "code",
   "execution_count": 35,
   "id": "c0de211e",
   "metadata": {},
   "outputs": [],
   "source": [
    "#delegacias com mais ocorrências\n",
    "df_del= df_att.groupby('delegacia')['contador'].sum().reset_index()\n",
    "df_del= df_del.sort_values(by= 'contador')"
   ]
  },
  {
   "cell_type": "code",
   "execution_count": 34,
   "id": "a40fe66e",
   "metadata": {},
   "outputs": [],
   "source": [
    "#Tipo de acidente que mais ocorre por ano\n",
    "dfvariacao= df_att.groupby(['Ano', 'tipo_acidente'])['contador'].sum().reset_index()\n",
    "idx = dfvariacao.groupby('Ano')['contador'].idxmax()\n",
    "df_ano = dfvariacao.loc[idx].sort_values(by='Ano')\n"
   ]
  }
 ],
 "metadata": {
  "kernelspec": {
   "display_name": "Python 3",
   "language": "python",
   "name": "python3"
  },
  "language_info": {
   "codemirror_mode": {
    "name": "ipython",
    "version": 3
   },
   "file_extension": ".py",
   "mimetype": "text/x-python",
   "name": "python",
   "nbconvert_exporter": "python",
   "pygments_lexer": "ipython3",
   "version": "3.11.8"
  }
 },
 "nbformat": 4,
 "nbformat_minor": 5
}
